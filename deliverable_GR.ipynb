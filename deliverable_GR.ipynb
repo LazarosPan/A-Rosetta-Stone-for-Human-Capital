{
 "cells": [
  {
   "cell_type": "markdown",
   "metadata": {},
   "source": [
    "# Δεύτερη Εργασία\n",
    "## Η Στήλη της Ροζέτας του Ανθρώπινου Κεφαλαίου\n",
    "---\n",
    "> Λάζαρος Πανιτσίδης <br/>\n",
    "> lazarospanitsidis@outlook.com"
   ]
  },
  {
   "cell_type": "markdown",
   "metadata": {},
   "source": [
    "### Ε1: Εισόδημα και Αποτελέσματα των Τεστ"
   ]
  },
  {
   "cell_type": "code",
   "execution_count": 47,
   "metadata": {},
   "outputs": [],
   "source": [
    "import pandas as pd\n",
    "import statsmodels.api as sm\n",
    "import statsmodels.formula.api as smf\n",
    "import matplotlib.pyplot as plt\n",
    "import numpy as np\n",
    "from plotnine import *\n",
    "import seaborn as sns\n",
    "import scipy.stats as stats\n",
    "pd.options.mode.chained_assignment = None  # default='warn'\n",
    "sns.set_theme()"
   ]
  },
  {
   "cell_type": "code",
   "execution_count": 49,
   "metadata": {},
   "outputs": [
    {
     "data": {
      "text/html": [
       "<div>\n",
       "<style scoped>\n",
       "    .dataframe tbody tr th:only-of-type {\n",
       "        vertical-align: middle;\n",
       "    }\n",
       "\n",
       "    .dataframe tbody tr th {\n",
       "        vertical-align: top;\n",
       "    }\n",
       "\n",
       "    .dataframe thead th {\n",
       "        text-align: right;\n",
       "    }\n",
       "</style>\n",
       "<table border=\"1\" class=\"dataframe\">\n",
       "  <thead>\n",
       "    <tr style=\"text-align: right;\">\n",
       "      <th></th>\n",
       "      <th>Country</th>\n",
       "      <th>Country Code</th>\n",
       "      <th>Percent Above Math Benchmark (400 on TIMSS Scale)</th>\n",
       "      <th>Percent Above Reading Benchmark (400 on PIRLS Scale)</th>\n",
       "      <th>Median Math Score (TIMSS Scale, 4th Grade)</th>\n",
       "      <th>Median Reading Score (PIRLS Scale, 4th Grade)</th>\n",
       "    </tr>\n",
       "  </thead>\n",
       "  <tbody>\n",
       "    <tr>\n",
       "      <th>0</th>\n",
       "      <td>U.A.E.</td>\n",
       "      <td>ARE</td>\n",
       "      <td>64.000000</td>\n",
       "      <td>63.982311</td>\n",
       "      <td>437.000000</td>\n",
       "      <td>440.000000</td>\n",
       "    </tr>\n",
       "    <tr>\n",
       "      <th>1</th>\n",
       "      <td>Argentina</td>\n",
       "      <td>ARG</td>\n",
       "      <td>51.000000</td>\n",
       "      <td>66.000000</td>\n",
       "      <td>406.652557</td>\n",
       "      <td>431.443542</td>\n",
       "    </tr>\n",
       "    <tr>\n",
       "      <th>2</th>\n",
       "      <td>Armenia</td>\n",
       "      <td>ARM</td>\n",
       "      <td>71.505402</td>\n",
       "      <td>NaN</td>\n",
       "      <td>454.000000</td>\n",
       "      <td>NaN</td>\n",
       "    </tr>\n",
       "    <tr>\n",
       "      <th>3</th>\n",
       "      <td>Australia</td>\n",
       "      <td>AUS</td>\n",
       "      <td>90.000000</td>\n",
       "      <td>92.932800</td>\n",
       "      <td>520.000000</td>\n",
       "      <td>534.000000</td>\n",
       "    </tr>\n",
       "    <tr>\n",
       "      <th>4</th>\n",
       "      <td>Austria</td>\n",
       "      <td>AUT</td>\n",
       "      <td>95.302193</td>\n",
       "      <td>97.104111</td>\n",
       "      <td>511.000000</td>\n",
       "      <td>533.000000</td>\n",
       "    </tr>\n",
       "    <tr>\n",
       "      <th>...</th>\n",
       "      <td>...</td>\n",
       "      <td>...</td>\n",
       "      <td>...</td>\n",
       "      <td>...</td>\n",
       "      <td>...</td>\n",
       "      <td>...</td>\n",
       "    </tr>\n",
       "    <tr>\n",
       "      <th>73</th>\n",
       "      <td>Turkey</td>\n",
       "      <td>TUR</td>\n",
       "      <td>77.000000</td>\n",
       "      <td>NaN</td>\n",
       "      <td>477.000000</td>\n",
       "      <td>NaN</td>\n",
       "    </tr>\n",
       "    <tr>\n",
       "      <th>74</th>\n",
       "      <td>Uruguay</td>\n",
       "      <td>URY</td>\n",
       "      <td>57.000000</td>\n",
       "      <td>70.000000</td>\n",
       "      <td>424.912933</td>\n",
       "      <td>450.448608</td>\n",
       "    </tr>\n",
       "    <tr>\n",
       "      <th>75</th>\n",
       "      <td>United States</td>\n",
       "      <td>USA</td>\n",
       "      <td>96.000000</td>\n",
       "      <td>97.517357</td>\n",
       "      <td>544.000000</td>\n",
       "      <td>560.000000</td>\n",
       "    </tr>\n",
       "    <tr>\n",
       "      <th>76</th>\n",
       "      <td>Yemen</td>\n",
       "      <td>YEM</td>\n",
       "      <td>9.265388</td>\n",
       "      <td>NaN</td>\n",
       "      <td>243.000000</td>\n",
       "      <td>NaN</td>\n",
       "    </tr>\n",
       "    <tr>\n",
       "      <th>77</th>\n",
       "      <td>South Africa</td>\n",
       "      <td>ZAF</td>\n",
       "      <td>NaN</td>\n",
       "      <td>24.000000</td>\n",
       "      <td>NaN</td>\n",
       "      <td>323.000000</td>\n",
       "    </tr>\n",
       "  </tbody>\n",
       "</table>\n",
       "<p>78 rows × 6 columns</p>\n",
       "</div>"
      ],
      "text/plain": [
       "          Country Country Code  \\\n",
       "0          U.A.E.          ARE   \n",
       "1       Argentina          ARG   \n",
       "2         Armenia          ARM   \n",
       "3       Australia          AUS   \n",
       "4         Austria          AUT   \n",
       "..            ...          ...   \n",
       "73         Turkey          TUR   \n",
       "74        Uruguay          URY   \n",
       "75  United States          USA   \n",
       "76          Yemen          YEM   \n",
       "77   South Africa          ZAF   \n",
       "\n",
       "    Percent Above Math Benchmark (400 on TIMSS Scale)  \\\n",
       "0                                           64.000000   \n",
       "1                                           51.000000   \n",
       "2                                           71.505402   \n",
       "3                                           90.000000   \n",
       "4                                           95.302193   \n",
       "..                                                ...   \n",
       "73                                          77.000000   \n",
       "74                                          57.000000   \n",
       "75                                          96.000000   \n",
       "76                                           9.265388   \n",
       "77                                                NaN   \n",
       "\n",
       "    Percent Above Reading Benchmark (400 on PIRLS Scale)  \\\n",
       "0                                           63.982311      \n",
       "1                                           66.000000      \n",
       "2                                                 NaN      \n",
       "3                                           92.932800      \n",
       "4                                           97.104111      \n",
       "..                                                ...      \n",
       "73                                                NaN      \n",
       "74                                          70.000000      \n",
       "75                                          97.517357      \n",
       "76                                                NaN      \n",
       "77                                          24.000000      \n",
       "\n",
       "    Median Math Score (TIMSS Scale, 4th Grade)  \\\n",
       "0                                   437.000000   \n",
       "1                                   406.652557   \n",
       "2                                   454.000000   \n",
       "3                                   520.000000   \n",
       "4                                   511.000000   \n",
       "..                                         ...   \n",
       "73                                  477.000000   \n",
       "74                                  424.912933   \n",
       "75                                  544.000000   \n",
       "76                                  243.000000   \n",
       "77                                         NaN   \n",
       "\n",
       "    Median Reading Score (PIRLS Scale, 4th Grade)  \n",
       "0                                      440.000000  \n",
       "1                                      431.443542  \n",
       "2                                             NaN  \n",
       "3                                      534.000000  \n",
       "4                                      533.000000  \n",
       "..                                            ...  \n",
       "73                                            NaN  \n",
       "74                                     450.448608  \n",
       "75                                     560.000000  \n",
       "76                                            NaN  \n",
       "77                                     323.000000  \n",
       "\n",
       "[78 rows x 6 columns]"
      ]
     },
     "execution_count": 49,
     "metadata": {},
     "output_type": "execute_result"
    }
   ],
   "source": [
    "country_scores = pd.read_excel('patel-sandefur-human-capital-final-results.xlsx', sheet_name=\"Country Scores\")\n",
    "country_scores"
   ]
  },
  {
   "cell_type": "code",
   "execution_count": 50,
   "metadata": {},
   "outputs": [
    {
     "data": {
      "text/plain": [
       "Country                                                  0\n",
       "Country Code                                             0\n",
       "Percent Above Math Benchmark (400 on TIMSS Scale)        8\n",
       "Percent Above Reading Benchmark (400 on PIRLS Scale)    12\n",
       "Median Math Score (TIMSS Scale, 4th Grade)               7\n",
       "Median Reading Score (PIRLS Scale, 4th Grade)           10\n",
       "dtype: int64"
      ]
     },
     "execution_count": 50,
     "metadata": {},
     "output_type": "execute_result"
    }
   ],
   "source": [
    "country_scores.isna().sum()"
   ]
  },
  {
   "attachments": {},
   "cell_type": "markdown",
   "metadata": {},
   "source": [
    "* Οι τιμές NaΝ διώχνονται με τη μέθοδο dropna(), καθώς οι χώρες δεν σχετίζονται μεταξύ τους ώστε να συμπληρωθούν οι τιμές."
   ]
  },
  {
   "cell_type": "code",
   "execution_count": 51,
   "metadata": {},
   "outputs": [
    {
     "data": {
      "text/html": [
       "<div>\n",
       "<style scoped>\n",
       "    .dataframe tbody tr th:only-of-type {\n",
       "        vertical-align: middle;\n",
       "    }\n",
       "\n",
       "    .dataframe tbody tr th {\n",
       "        vertical-align: top;\n",
       "    }\n",
       "\n",
       "    .dataframe thead th {\n",
       "        text-align: right;\n",
       "    }\n",
       "</style>\n",
       "<table border=\"1\" class=\"dataframe\">\n",
       "  <thead>\n",
       "    <tr style=\"text-align: right;\">\n",
       "      <th></th>\n",
       "      <th>Country</th>\n",
       "      <th>Median Math Score (TIMSS Scale, 4th Grade)</th>\n",
       "      <th>Median Reading Score (PIRLS Scale, 4th Grade)</th>\n",
       "    </tr>\n",
       "  </thead>\n",
       "  <tbody>\n",
       "    <tr>\n",
       "      <th>0</th>\n",
       "      <td>U.A.E.</td>\n",
       "      <td>437.000000</td>\n",
       "      <td>440.000000</td>\n",
       "    </tr>\n",
       "    <tr>\n",
       "      <th>1</th>\n",
       "      <td>Argentina</td>\n",
       "      <td>406.652557</td>\n",
       "      <td>431.443542</td>\n",
       "    </tr>\n",
       "    <tr>\n",
       "      <th>3</th>\n",
       "      <td>Australia</td>\n",
       "      <td>520.000000</td>\n",
       "      <td>534.000000</td>\n",
       "    </tr>\n",
       "    <tr>\n",
       "      <th>4</th>\n",
       "      <td>Austria</td>\n",
       "      <td>511.000000</td>\n",
       "      <td>533.000000</td>\n",
       "    </tr>\n",
       "    <tr>\n",
       "      <th>5</th>\n",
       "      <td>Azerbaijan</td>\n",
       "      <td>465.000000</td>\n",
       "      <td>467.000000</td>\n",
       "    </tr>\n",
       "  </tbody>\n",
       "</table>\n",
       "</div>"
      ],
      "text/plain": [
       "      Country  Median Math Score (TIMSS Scale, 4th Grade)  \\\n",
       "0      U.A.E.                                  437.000000   \n",
       "1   Argentina                                  406.652557   \n",
       "3   Australia                                  520.000000   \n",
       "4     Austria                                  511.000000   \n",
       "5  Azerbaijan                                  465.000000   \n",
       "\n",
       "   Median Reading Score (PIRLS Scale, 4th Grade)  \n",
       "0                                     440.000000  \n",
       "1                                     431.443542  \n",
       "3                                     534.000000  \n",
       "4                                     533.000000  \n",
       "5                                     467.000000  "
      ]
     },
     "execution_count": 51,
     "metadata": {},
     "output_type": "execute_result"
    }
   ],
   "source": [
    "country_scores = country_scores.dropna()\n",
    "country_scores = country_scores[['Country', 'Median Math Score (TIMSS Scale, 4th Grade)','Median Reading Score (PIRLS Scale, 4th Grade)']]\n",
    "country_scores.head()"
   ]
  },
  {
   "cell_type": "code",
   "execution_count": 52,
   "metadata": {},
   "outputs": [
    {
     "data": {
      "text/html": [
       "<div>\n",
       "<style scoped>\n",
       "    .dataframe tbody tr th:only-of-type {\n",
       "        vertical-align: middle;\n",
       "    }\n",
       "\n",
       "    .dataframe tbody tr th {\n",
       "        vertical-align: top;\n",
       "    }\n",
       "\n",
       "    .dataframe thead th {\n",
       "        text-align: right;\n",
       "    }\n",
       "</style>\n",
       "<table border=\"1\" class=\"dataframe\">\n",
       "  <thead>\n",
       "    <tr style=\"text-align: right;\">\n",
       "      <th></th>\n",
       "      <th>Country Name</th>\n",
       "      <th>Country Code</th>\n",
       "      <th>Series Name</th>\n",
       "      <th>Series Code</th>\n",
       "      <th>2015 [YR2015]</th>\n",
       "    </tr>\n",
       "  </thead>\n",
       "  <tbody>\n",
       "    <tr>\n",
       "      <th>0</th>\n",
       "      <td>Afghanistan</td>\n",
       "      <td>AFG</td>\n",
       "      <td>GDP per capita, PPP (constant 2011 internation...</td>\n",
       "      <td>NY.GDP.PCAP.PP.KD</td>\n",
       "      <td>1809.01648820483</td>\n",
       "    </tr>\n",
       "    <tr>\n",
       "      <th>1</th>\n",
       "      <td>Afghanistan</td>\n",
       "      <td>AFG</td>\n",
       "      <td>School enrollment, primary (% net)</td>\n",
       "      <td>SE.PRM.NENR</td>\n",
       "      <td>..</td>\n",
       "    </tr>\n",
       "    <tr>\n",
       "      <th>2</th>\n",
       "      <td>Afghanistan</td>\n",
       "      <td>AFG</td>\n",
       "      <td>School enrollment, primary (% gross)</td>\n",
       "      <td>SE.PRM.ENRR</td>\n",
       "      <td>107.225357055664</td>\n",
       "    </tr>\n",
       "    <tr>\n",
       "      <th>3</th>\n",
       "      <td>Albania</td>\n",
       "      <td>ALB</td>\n",
       "      <td>GDP per capita, PPP (constant 2011 internation...</td>\n",
       "      <td>NY.GDP.PCAP.PP.KD</td>\n",
       "      <td>10971.2925173789</td>\n",
       "    </tr>\n",
       "    <tr>\n",
       "      <th>4</th>\n",
       "      <td>Albania</td>\n",
       "      <td>ALB</td>\n",
       "      <td>School enrollment, primary (% net)</td>\n",
       "      <td>SE.PRM.NENR</td>\n",
       "      <td>95.1996002197266</td>\n",
       "    </tr>\n",
       "    <tr>\n",
       "      <th>...</th>\n",
       "      <td>...</td>\n",
       "      <td>...</td>\n",
       "      <td>...</td>\n",
       "      <td>...</td>\n",
       "      <td>...</td>\n",
       "    </tr>\n",
       "    <tr>\n",
       "      <th>792</th>\n",
       "      <td>NaN</td>\n",
       "      <td>NaN</td>\n",
       "      <td>NaN</td>\n",
       "      <td>NaN</td>\n",
       "      <td>NaN</td>\n",
       "    </tr>\n",
       "    <tr>\n",
       "      <th>793</th>\n",
       "      <td>NaN</td>\n",
       "      <td>NaN</td>\n",
       "      <td>NaN</td>\n",
       "      <td>NaN</td>\n",
       "      <td>NaN</td>\n",
       "    </tr>\n",
       "    <tr>\n",
       "      <th>794</th>\n",
       "      <td>NaN</td>\n",
       "      <td>NaN</td>\n",
       "      <td>NaN</td>\n",
       "      <td>NaN</td>\n",
       "      <td>NaN</td>\n",
       "    </tr>\n",
       "    <tr>\n",
       "      <th>795</th>\n",
       "      <td>Data from database: World Development Indicators</td>\n",
       "      <td>NaN</td>\n",
       "      <td>NaN</td>\n",
       "      <td>NaN</td>\n",
       "      <td>NaN</td>\n",
       "    </tr>\n",
       "    <tr>\n",
       "      <th>796</th>\n",
       "      <td>Last Updated: 05/21/2018</td>\n",
       "      <td>NaN</td>\n",
       "      <td>NaN</td>\n",
       "      <td>NaN</td>\n",
       "      <td>NaN</td>\n",
       "    </tr>\n",
       "  </tbody>\n",
       "</table>\n",
       "<p>797 rows × 5 columns</p>\n",
       "</div>"
      ],
      "text/plain": [
       "                                         Country Name Country Code  \\\n",
       "0                                         Afghanistan          AFG   \n",
       "1                                         Afghanistan          AFG   \n",
       "2                                         Afghanistan          AFG   \n",
       "3                                             Albania          ALB   \n",
       "4                                             Albania          ALB   \n",
       "..                                                ...          ...   \n",
       "792                                               NaN          NaN   \n",
       "793                                               NaN          NaN   \n",
       "794                                               NaN          NaN   \n",
       "795  Data from database: World Development Indicators          NaN   \n",
       "796                          Last Updated: 05/21/2018          NaN   \n",
       "\n",
       "                                           Series Name        Series Code  \\\n",
       "0    GDP per capita, PPP (constant 2011 internation...  NY.GDP.PCAP.PP.KD   \n",
       "1                   School enrollment, primary (% net)        SE.PRM.NENR   \n",
       "2                 School enrollment, primary (% gross)        SE.PRM.ENRR   \n",
       "3    GDP per capita, PPP (constant 2011 internation...  NY.GDP.PCAP.PP.KD   \n",
       "4                   School enrollment, primary (% net)        SE.PRM.NENR   \n",
       "..                                                 ...                ...   \n",
       "792                                                NaN                NaN   \n",
       "793                                                NaN                NaN   \n",
       "794                                                NaN                NaN   \n",
       "795                                                NaN                NaN   \n",
       "796                                                NaN                NaN   \n",
       "\n",
       "        2015 [YR2015]  \n",
       "0    1809.01648820483  \n",
       "1                  ..  \n",
       "2    107.225357055664  \n",
       "3    10971.2925173789  \n",
       "4    95.1996002197266  \n",
       "..                ...  \n",
       "792               NaN  \n",
       "793               NaN  \n",
       "794               NaN  \n",
       "795               NaN  \n",
       "796               NaN  \n",
       "\n",
       "[797 rows x 5 columns]"
      ]
     },
     "execution_count": 52,
     "metadata": {},
     "output_type": "execute_result"
    }
   ],
   "source": [
    "wdi = pd.read_csv(\"WDI_data.csv\")\n",
    "wdi"
   ]
  },
  {
   "cell_type": "code",
   "execution_count": 53,
   "metadata": {},
   "outputs": [
    {
     "data": {
      "text/plain": [
       "Country Name     3\n",
       "Country Code     5\n",
       "Series Name      5\n",
       "Series Code      5\n",
       "2015 [YR2015]    5\n",
       "dtype: int64"
      ]
     },
     "execution_count": 53,
     "metadata": {},
     "output_type": "execute_result"
    }
   ],
   "source": [
    "wdi.isna().sum()"
   ]
  },
  {
   "cell_type": "markdown",
   "metadata": {},
   "source": [
    "* Παρατηρείται ότι οι μόνες NaN τιμές που υπάρχουν , είναι αυτές των τελευταίων 5 γραμμών , οι οποίες δεν έχουν κάποια χρήσιμη πληροφορία."
   ]
  },
  {
   "cell_type": "code",
   "execution_count": 54,
   "metadata": {},
   "outputs": [
    {
     "data": {
      "text/html": [
       "<div>\n",
       "<style scoped>\n",
       "    .dataframe tbody tr th:only-of-type {\n",
       "        vertical-align: middle;\n",
       "    }\n",
       "\n",
       "    .dataframe tbody tr th {\n",
       "        vertical-align: top;\n",
       "    }\n",
       "\n",
       "    .dataframe thead th {\n",
       "        text-align: right;\n",
       "    }\n",
       "</style>\n",
       "<table border=\"1\" class=\"dataframe\">\n",
       "  <thead>\n",
       "    <tr style=\"text-align: right;\">\n",
       "      <th></th>\n",
       "      <th>Country Name</th>\n",
       "      <th>Country Code</th>\n",
       "      <th>Series Name</th>\n",
       "      <th>Series Code</th>\n",
       "      <th>2015 [YR2015]</th>\n",
       "    </tr>\n",
       "  </thead>\n",
       "  <tbody>\n",
       "    <tr>\n",
       "      <th>0</th>\n",
       "      <td>Afghanistan</td>\n",
       "      <td>AFG</td>\n",
       "      <td>GDP per capita, PPP (constant 2011 internation...</td>\n",
       "      <td>NY.GDP.PCAP.PP.KD</td>\n",
       "      <td>1809.01648820483</td>\n",
       "    </tr>\n",
       "    <tr>\n",
       "      <th>1</th>\n",
       "      <td>Afghanistan</td>\n",
       "      <td>AFG</td>\n",
       "      <td>School enrollment, primary (% net)</td>\n",
       "      <td>SE.PRM.NENR</td>\n",
       "      <td>..</td>\n",
       "    </tr>\n",
       "    <tr>\n",
       "      <th>2</th>\n",
       "      <td>Afghanistan</td>\n",
       "      <td>AFG</td>\n",
       "      <td>School enrollment, primary (% gross)</td>\n",
       "      <td>SE.PRM.ENRR</td>\n",
       "      <td>107.225357055664</td>\n",
       "    </tr>\n",
       "    <tr>\n",
       "      <th>3</th>\n",
       "      <td>Albania</td>\n",
       "      <td>ALB</td>\n",
       "      <td>GDP per capita, PPP (constant 2011 internation...</td>\n",
       "      <td>NY.GDP.PCAP.PP.KD</td>\n",
       "      <td>10971.2925173789</td>\n",
       "    </tr>\n",
       "    <tr>\n",
       "      <th>4</th>\n",
       "      <td>Albania</td>\n",
       "      <td>ALB</td>\n",
       "      <td>School enrollment, primary (% net)</td>\n",
       "      <td>SE.PRM.NENR</td>\n",
       "      <td>95.1996002197266</td>\n",
       "    </tr>\n",
       "    <tr>\n",
       "      <th>...</th>\n",
       "      <td>...</td>\n",
       "      <td>...</td>\n",
       "      <td>...</td>\n",
       "      <td>...</td>\n",
       "      <td>...</td>\n",
       "    </tr>\n",
       "    <tr>\n",
       "      <th>787</th>\n",
       "      <td>Zambia</td>\n",
       "      <td>ZMB</td>\n",
       "      <td>School enrollment, primary (% net)</td>\n",
       "      <td>SE.PRM.NENR</td>\n",
       "      <td>..</td>\n",
       "    </tr>\n",
       "    <tr>\n",
       "      <th>788</th>\n",
       "      <td>Zambia</td>\n",
       "      <td>ZMB</td>\n",
       "      <td>School enrollment, primary (% gross)</td>\n",
       "      <td>SE.PRM.ENRR</td>\n",
       "      <td>..</td>\n",
       "    </tr>\n",
       "    <tr>\n",
       "      <th>789</th>\n",
       "      <td>Zimbabwe</td>\n",
       "      <td>ZWE</td>\n",
       "      <td>GDP per capita, PPP (constant 2011 internation...</td>\n",
       "      <td>NY.GDP.PCAP.PP.KD</td>\n",
       "      <td>1912.28026439598</td>\n",
       "    </tr>\n",
       "    <tr>\n",
       "      <th>790</th>\n",
       "      <td>Zimbabwe</td>\n",
       "      <td>ZWE</td>\n",
       "      <td>School enrollment, primary (% net)</td>\n",
       "      <td>SE.PRM.NENR</td>\n",
       "      <td>..</td>\n",
       "    </tr>\n",
       "    <tr>\n",
       "      <th>791</th>\n",
       "      <td>Zimbabwe</td>\n",
       "      <td>ZWE</td>\n",
       "      <td>School enrollment, primary (% gross)</td>\n",
       "      <td>SE.PRM.ENRR</td>\n",
       "      <td>..</td>\n",
       "    </tr>\n",
       "  </tbody>\n",
       "</table>\n",
       "<p>792 rows × 5 columns</p>\n",
       "</div>"
      ],
      "text/plain": [
       "    Country Name Country Code  \\\n",
       "0    Afghanistan          AFG   \n",
       "1    Afghanistan          AFG   \n",
       "2    Afghanistan          AFG   \n",
       "3        Albania          ALB   \n",
       "4        Albania          ALB   \n",
       "..           ...          ...   \n",
       "787       Zambia          ZMB   \n",
       "788       Zambia          ZMB   \n",
       "789     Zimbabwe          ZWE   \n",
       "790     Zimbabwe          ZWE   \n",
       "791     Zimbabwe          ZWE   \n",
       "\n",
       "                                           Series Name        Series Code  \\\n",
       "0    GDP per capita, PPP (constant 2011 internation...  NY.GDP.PCAP.PP.KD   \n",
       "1                   School enrollment, primary (% net)        SE.PRM.NENR   \n",
       "2                 School enrollment, primary (% gross)        SE.PRM.ENRR   \n",
       "3    GDP per capita, PPP (constant 2011 internation...  NY.GDP.PCAP.PP.KD   \n",
       "4                   School enrollment, primary (% net)        SE.PRM.NENR   \n",
       "..                                                 ...                ...   \n",
       "787                 School enrollment, primary (% net)        SE.PRM.NENR   \n",
       "788               School enrollment, primary (% gross)        SE.PRM.ENRR   \n",
       "789  GDP per capita, PPP (constant 2011 internation...  NY.GDP.PCAP.PP.KD   \n",
       "790                 School enrollment, primary (% net)        SE.PRM.NENR   \n",
       "791               School enrollment, primary (% gross)        SE.PRM.ENRR   \n",
       "\n",
       "        2015 [YR2015]  \n",
       "0    1809.01648820483  \n",
       "1                  ..  \n",
       "2    107.225357055664  \n",
       "3    10971.2925173789  \n",
       "4    95.1996002197266  \n",
       "..                ...  \n",
       "787                ..  \n",
       "788                ..  \n",
       "789  1912.28026439598  \n",
       "790                ..  \n",
       "791                ..  \n",
       "\n",
       "[792 rows x 5 columns]"
      ]
     },
     "execution_count": 54,
     "metadata": {},
     "output_type": "execute_result"
    }
   ],
   "source": [
    "wdi = wdi.dropna()\n",
    "wdi"
   ]
  },
  {
   "cell_type": "markdown",
   "metadata": {},
   "source": [
    "* Επιλέγονται μόνο οι γραμμές που περιέχουν την πληροφορία για το κατά κεφαλήν εισόδημα."
   ]
  },
  {
   "cell_type": "code",
   "execution_count": 55,
   "metadata": {},
   "outputs": [
    {
     "data": {
      "text/html": [
       "<div>\n",
       "<style scoped>\n",
       "    .dataframe tbody tr th:only-of-type {\n",
       "        vertical-align: middle;\n",
       "    }\n",
       "\n",
       "    .dataframe tbody tr th {\n",
       "        vertical-align: top;\n",
       "    }\n",
       "\n",
       "    .dataframe thead th {\n",
       "        text-align: right;\n",
       "    }\n",
       "</style>\n",
       "<table border=\"1\" class=\"dataframe\">\n",
       "  <thead>\n",
       "    <tr style=\"text-align: right;\">\n",
       "      <th></th>\n",
       "      <th>Country Name</th>\n",
       "      <th>Country Code</th>\n",
       "      <th>Series Name</th>\n",
       "      <th>Series Code</th>\n",
       "      <th>2015 [YR2015]</th>\n",
       "    </tr>\n",
       "  </thead>\n",
       "  <tbody>\n",
       "    <tr>\n",
       "      <th>0</th>\n",
       "      <td>Afghanistan</td>\n",
       "      <td>AFG</td>\n",
       "      <td>GDP per capita, PPP (constant 2011 internation...</td>\n",
       "      <td>NY.GDP.PCAP.PP.KD</td>\n",
       "      <td>1809.01648820483</td>\n",
       "    </tr>\n",
       "    <tr>\n",
       "      <th>3</th>\n",
       "      <td>Albania</td>\n",
       "      <td>ALB</td>\n",
       "      <td>GDP per capita, PPP (constant 2011 internation...</td>\n",
       "      <td>NY.GDP.PCAP.PP.KD</td>\n",
       "      <td>10971.2925173789</td>\n",
       "    </tr>\n",
       "    <tr>\n",
       "      <th>6</th>\n",
       "      <td>Algeria</td>\n",
       "      <td>DZA</td>\n",
       "      <td>GDP per capita, PPP (constant 2011 internation...</td>\n",
       "      <td>NY.GDP.PCAP.PP.KD</td>\n",
       "      <td>13724.723852895</td>\n",
       "    </tr>\n",
       "    <tr>\n",
       "      <th>9</th>\n",
       "      <td>American Samoa</td>\n",
       "      <td>ASM</td>\n",
       "      <td>GDP per capita, PPP (constant 2011 internation...</td>\n",
       "      <td>NY.GDP.PCAP.PP.KD</td>\n",
       "      <td>..</td>\n",
       "    </tr>\n",
       "    <tr>\n",
       "      <th>12</th>\n",
       "      <td>Andorra</td>\n",
       "      <td>AND</td>\n",
       "      <td>GDP per capita, PPP (constant 2011 internation...</td>\n",
       "      <td>NY.GDP.PCAP.PP.KD</td>\n",
       "      <td>..</td>\n",
       "    </tr>\n",
       "    <tr>\n",
       "      <th>...</th>\n",
       "      <td>...</td>\n",
       "      <td>...</td>\n",
       "      <td>...</td>\n",
       "      <td>...</td>\n",
       "      <td>...</td>\n",
       "    </tr>\n",
       "    <tr>\n",
       "      <th>777</th>\n",
       "      <td>West Bank and Gaza</td>\n",
       "      <td>PSE</td>\n",
       "      <td>GDP per capita, PPP (constant 2011 internation...</td>\n",
       "      <td>NY.GDP.PCAP.PP.KD</td>\n",
       "      <td>4339.10369305975</td>\n",
       "    </tr>\n",
       "    <tr>\n",
       "      <th>780</th>\n",
       "      <td>World</td>\n",
       "      <td>WLD</td>\n",
       "      <td>GDP per capita, PPP (constant 2011 internation...</td>\n",
       "      <td>NY.GDP.PCAP.PP.KD</td>\n",
       "      <td>14766.537605517</td>\n",
       "    </tr>\n",
       "    <tr>\n",
       "      <th>783</th>\n",
       "      <td>Yemen, Rep.</td>\n",
       "      <td>YEM</td>\n",
       "      <td>GDP per capita, PPP (constant 2011 internation...</td>\n",
       "      <td>NY.GDP.PCAP.PP.KD</td>\n",
       "      <td>2641.04582911357</td>\n",
       "    </tr>\n",
       "    <tr>\n",
       "      <th>786</th>\n",
       "      <td>Zambia</td>\n",
       "      <td>ZMB</td>\n",
       "      <td>GDP per capita, PPP (constant 2011 internation...</td>\n",
       "      <td>NY.GDP.PCAP.PP.KD</td>\n",
       "      <td>3627.20204093772</td>\n",
       "    </tr>\n",
       "    <tr>\n",
       "      <th>789</th>\n",
       "      <td>Zimbabwe</td>\n",
       "      <td>ZWE</td>\n",
       "      <td>GDP per capita, PPP (constant 2011 internation...</td>\n",
       "      <td>NY.GDP.PCAP.PP.KD</td>\n",
       "      <td>1912.28026439598</td>\n",
       "    </tr>\n",
       "  </tbody>\n",
       "</table>\n",
       "<p>264 rows × 5 columns</p>\n",
       "</div>"
      ],
      "text/plain": [
       "           Country Name Country Code  \\\n",
       "0           Afghanistan          AFG   \n",
       "3               Albania          ALB   \n",
       "6               Algeria          DZA   \n",
       "9        American Samoa          ASM   \n",
       "12              Andorra          AND   \n",
       "..                  ...          ...   \n",
       "777  West Bank and Gaza          PSE   \n",
       "780               World          WLD   \n",
       "783         Yemen, Rep.          YEM   \n",
       "786              Zambia          ZMB   \n",
       "789            Zimbabwe          ZWE   \n",
       "\n",
       "                                           Series Name        Series Code  \\\n",
       "0    GDP per capita, PPP (constant 2011 internation...  NY.GDP.PCAP.PP.KD   \n",
       "3    GDP per capita, PPP (constant 2011 internation...  NY.GDP.PCAP.PP.KD   \n",
       "6    GDP per capita, PPP (constant 2011 internation...  NY.GDP.PCAP.PP.KD   \n",
       "9    GDP per capita, PPP (constant 2011 internation...  NY.GDP.PCAP.PP.KD   \n",
       "12   GDP per capita, PPP (constant 2011 internation...  NY.GDP.PCAP.PP.KD   \n",
       "..                                                 ...                ...   \n",
       "777  GDP per capita, PPP (constant 2011 internation...  NY.GDP.PCAP.PP.KD   \n",
       "780  GDP per capita, PPP (constant 2011 internation...  NY.GDP.PCAP.PP.KD   \n",
       "783  GDP per capita, PPP (constant 2011 internation...  NY.GDP.PCAP.PP.KD   \n",
       "786  GDP per capita, PPP (constant 2011 internation...  NY.GDP.PCAP.PP.KD   \n",
       "789  GDP per capita, PPP (constant 2011 internation...  NY.GDP.PCAP.PP.KD   \n",
       "\n",
       "        2015 [YR2015]  \n",
       "0    1809.01648820483  \n",
       "3    10971.2925173789  \n",
       "6     13724.723852895  \n",
       "9                  ..  \n",
       "12                 ..  \n",
       "..                ...  \n",
       "777  4339.10369305975  \n",
       "780   14766.537605517  \n",
       "783  2641.04582911357  \n",
       "786  3627.20204093772  \n",
       "789  1912.28026439598  \n",
       "\n",
       "[264 rows x 5 columns]"
      ]
     },
     "execution_count": 55,
     "metadata": {},
     "output_type": "execute_result"
    }
   ],
   "source": [
    "wdi_gdp = wdi[wdi[\"Series Name\"] == \"GDP per capita, PPP (constant 2011 international $)\"]\n",
    "wdi_gdp"
   ]
  },
  {
   "cell_type": "markdown",
   "metadata": {},
   "source": [
    "* Δεν υπήρξε κάποιο σφάλμα κατά την επιλογή αυτών των γραμμών, καθώς η κάθε χώρα είχε 3 \"γραμμές πληροφορίας\" και επιλέχτηκε η 1 από τις 3. Άρα 792/3 = 264."
   ]
  },
  {
   "cell_type": "code",
   "execution_count": 56,
   "metadata": {},
   "outputs": [
    {
     "data": {
      "text/html": [
       "<div>\n",
       "<style scoped>\n",
       "    .dataframe tbody tr th:only-of-type {\n",
       "        vertical-align: middle;\n",
       "    }\n",
       "\n",
       "    .dataframe tbody tr th {\n",
       "        vertical-align: top;\n",
       "    }\n",
       "\n",
       "    .dataframe thead th {\n",
       "        text-align: right;\n",
       "    }\n",
       "</style>\n",
       "<table border=\"1\" class=\"dataframe\">\n",
       "  <thead>\n",
       "    <tr style=\"text-align: right;\">\n",
       "      <th></th>\n",
       "      <th>Country</th>\n",
       "      <th>GDP</th>\n",
       "    </tr>\n",
       "  </thead>\n",
       "  <tbody>\n",
       "    <tr>\n",
       "      <th>0</th>\n",
       "      <td>Afghanistan</td>\n",
       "      <td>1809.01648820483</td>\n",
       "    </tr>\n",
       "    <tr>\n",
       "      <th>3</th>\n",
       "      <td>Albania</td>\n",
       "      <td>10971.2925173789</td>\n",
       "    </tr>\n",
       "    <tr>\n",
       "      <th>6</th>\n",
       "      <td>Algeria</td>\n",
       "      <td>13724.723852895</td>\n",
       "    </tr>\n",
       "    <tr>\n",
       "      <th>9</th>\n",
       "      <td>American Samoa</td>\n",
       "      <td>..</td>\n",
       "    </tr>\n",
       "    <tr>\n",
       "      <th>12</th>\n",
       "      <td>Andorra</td>\n",
       "      <td>..</td>\n",
       "    </tr>\n",
       "    <tr>\n",
       "      <th>...</th>\n",
       "      <td>...</td>\n",
       "      <td>...</td>\n",
       "    </tr>\n",
       "    <tr>\n",
       "      <th>777</th>\n",
       "      <td>West Bank and Gaza</td>\n",
       "      <td>4339.10369305975</td>\n",
       "    </tr>\n",
       "    <tr>\n",
       "      <th>780</th>\n",
       "      <td>World</td>\n",
       "      <td>14766.537605517</td>\n",
       "    </tr>\n",
       "    <tr>\n",
       "      <th>783</th>\n",
       "      <td>Yemen, Rep.</td>\n",
       "      <td>2641.04582911357</td>\n",
       "    </tr>\n",
       "    <tr>\n",
       "      <th>786</th>\n",
       "      <td>Zambia</td>\n",
       "      <td>3627.20204093772</td>\n",
       "    </tr>\n",
       "    <tr>\n",
       "      <th>789</th>\n",
       "      <td>Zimbabwe</td>\n",
       "      <td>1912.28026439598</td>\n",
       "    </tr>\n",
       "  </tbody>\n",
       "</table>\n",
       "<p>264 rows × 2 columns</p>\n",
       "</div>"
      ],
      "text/plain": [
       "                Country               GDP\n",
       "0           Afghanistan  1809.01648820483\n",
       "3               Albania  10971.2925173789\n",
       "6               Algeria   13724.723852895\n",
       "9        American Samoa                ..\n",
       "12              Andorra                ..\n",
       "..                  ...               ...\n",
       "777  West Bank and Gaza  4339.10369305975\n",
       "780               World   14766.537605517\n",
       "783         Yemen, Rep.  2641.04582911357\n",
       "786              Zambia  3627.20204093772\n",
       "789            Zimbabwe  1912.28026439598\n",
       "\n",
       "[264 rows x 2 columns]"
      ]
     },
     "execution_count": 56,
     "metadata": {},
     "output_type": "execute_result"
    }
   ],
   "source": [
    "wdi_gdp = wdi_gdp[['Country Name','2015 [YR2015]']]\n",
    "wdi_gdp.rename(columns={'Country Name': 'Country', '2015 [YR2015]': 'GDP'}, inplace=True)\n",
    "wdi_gdp"
   ]
  },
  {
   "cell_type": "code",
   "execution_count": 57,
   "metadata": {},
   "outputs": [
    {
     "data": {
      "text/plain": [
       "Country    object\n",
       "GDP        object\n",
       "dtype: object"
      ]
     },
     "execution_count": 57,
     "metadata": {},
     "output_type": "execute_result"
    }
   ],
   "source": [
    "wdi_gdp.dtypes"
   ]
  },
  {
   "cell_type": "markdown",
   "metadata": {},
   "source": [
    "* Παρατηρήθηκε ότι μέσα στις τιμές του GDP , υπήρχε και η συμβολοσειρά \"..\" , οπότε μετατρέπεται σε NaN. Έπειτα οι τιμές της στήλης GDP μετατρέπονται σε float και οι τιμές NaN συμπληρώνονται από τον μέσο όρο της στήλης. Τέλος φτιάχνεται μια νέα στήλη με τον λογάριθμο του κατα κεφαλήν εισοδήματος."
   ]
  },
  {
   "cell_type": "code",
   "execution_count": 58,
   "metadata": {},
   "outputs": [
    {
     "data": {
      "text/html": [
       "<div>\n",
       "<style scoped>\n",
       "    .dataframe tbody tr th:only-of-type {\n",
       "        vertical-align: middle;\n",
       "    }\n",
       "\n",
       "    .dataframe tbody tr th {\n",
       "        vertical-align: top;\n",
       "    }\n",
       "\n",
       "    .dataframe thead th {\n",
       "        text-align: right;\n",
       "    }\n",
       "</style>\n",
       "<table border=\"1\" class=\"dataframe\">\n",
       "  <thead>\n",
       "    <tr style=\"text-align: right;\">\n",
       "      <th></th>\n",
       "      <th>Country</th>\n",
       "      <th>GDP</th>\n",
       "      <th>log_GDP</th>\n",
       "    </tr>\n",
       "  </thead>\n",
       "  <tbody>\n",
       "    <tr>\n",
       "      <th>0</th>\n",
       "      <td>Afghanistan</td>\n",
       "      <td>1809.016488</td>\n",
       "      <td>7.500539</td>\n",
       "    </tr>\n",
       "    <tr>\n",
       "      <th>3</th>\n",
       "      <td>Albania</td>\n",
       "      <td>10971.292517</td>\n",
       "      <td>9.303037</td>\n",
       "    </tr>\n",
       "    <tr>\n",
       "      <th>6</th>\n",
       "      <td>Algeria</td>\n",
       "      <td>13724.723853</td>\n",
       "      <td>9.526954</td>\n",
       "    </tr>\n",
       "    <tr>\n",
       "      <th>15</th>\n",
       "      <td>Angola</td>\n",
       "      <td>6231.067992</td>\n",
       "      <td>8.737303</td>\n",
       "    </tr>\n",
       "    <tr>\n",
       "      <th>18</th>\n",
       "      <td>Antigua and Barbuda</td>\n",
       "      <td>20154.947488</td>\n",
       "      <td>9.911205</td>\n",
       "    </tr>\n",
       "    <tr>\n",
       "      <th>...</th>\n",
       "      <td>...</td>\n",
       "      <td>...</td>\n",
       "      <td>...</td>\n",
       "    </tr>\n",
       "    <tr>\n",
       "      <th>777</th>\n",
       "      <td>West Bank and Gaza</td>\n",
       "      <td>4339.103693</td>\n",
       "      <td>8.375423</td>\n",
       "    </tr>\n",
       "    <tr>\n",
       "      <th>780</th>\n",
       "      <td>World</td>\n",
       "      <td>14766.537606</td>\n",
       "      <td>9.600119</td>\n",
       "    </tr>\n",
       "    <tr>\n",
       "      <th>783</th>\n",
       "      <td>Yemen, Rep.</td>\n",
       "      <td>2641.045829</td>\n",
       "      <td>7.878930</td>\n",
       "    </tr>\n",
       "    <tr>\n",
       "      <th>786</th>\n",
       "      <td>Zambia</td>\n",
       "      <td>3627.202041</td>\n",
       "      <td>8.196217</td>\n",
       "    </tr>\n",
       "    <tr>\n",
       "      <th>789</th>\n",
       "      <td>Zimbabwe</td>\n",
       "      <td>1912.280264</td>\n",
       "      <td>7.556052</td>\n",
       "    </tr>\n",
       "  </tbody>\n",
       "</table>\n",
       "<p>234 rows × 3 columns</p>\n",
       "</div>"
      ],
      "text/plain": [
       "                 Country           GDP   log_GDP\n",
       "0            Afghanistan   1809.016488  7.500539\n",
       "3                Albania  10971.292517  9.303037\n",
       "6                Algeria  13724.723853  9.526954\n",
       "15                Angola   6231.067992  8.737303\n",
       "18   Antigua and Barbuda  20154.947488  9.911205\n",
       "..                   ...           ...       ...\n",
       "777   West Bank and Gaza   4339.103693  8.375423\n",
       "780                World  14766.537606  9.600119\n",
       "783          Yemen, Rep.   2641.045829  7.878930\n",
       "786               Zambia   3627.202041  8.196217\n",
       "789             Zimbabwe   1912.280264  7.556052\n",
       "\n",
       "[234 rows x 3 columns]"
      ]
     },
     "execution_count": 58,
     "metadata": {},
     "output_type": "execute_result"
    }
   ],
   "source": [
    "wdi_gdp['GDP'][wdi_gdp['GDP'] == \"..\"] = np.nan\n",
    "wdi_gdp['GDP'] = wdi_gdp['GDP'].astype(\"float\")\n",
    "wdi_gdp.dropna(inplace=True)\n",
    "wdi_gdp['log_GDP'] = np.log(wdi_gdp['GDP'])\n",
    "wdi_gdp"
   ]
  },
  {
   "cell_type": "markdown",
   "metadata": {},
   "source": [
    "* Φτιάχνεται ένα κοινό dataframe που εμπεριέχει όλα όσα χρειάζονται για τα γραφήματα."
   ]
  },
  {
   "cell_type": "code",
   "execution_count": 59,
   "metadata": {},
   "outputs": [
    {
     "data": {
      "text/html": [
       "<div>\n",
       "<style scoped>\n",
       "    .dataframe tbody tr th:only-of-type {\n",
       "        vertical-align: middle;\n",
       "    }\n",
       "\n",
       "    .dataframe tbody tr th {\n",
       "        vertical-align: top;\n",
       "    }\n",
       "\n",
       "    .dataframe thead th {\n",
       "        text-align: right;\n",
       "    }\n",
       "</style>\n",
       "<table border=\"1\" class=\"dataframe\">\n",
       "  <thead>\n",
       "    <tr style=\"text-align: right;\">\n",
       "      <th></th>\n",
       "      <th>Median Math Score (TIMSS Scale, 4th Grade)</th>\n",
       "      <th>Median Reading Score (PIRLS Scale, 4th Grade)</th>\n",
       "      <th>GDP</th>\n",
       "      <th>log_GDP</th>\n",
       "    </tr>\n",
       "    <tr>\n",
       "      <th>Country</th>\n",
       "      <th></th>\n",
       "      <th></th>\n",
       "      <th></th>\n",
       "      <th></th>\n",
       "    </tr>\n",
       "  </thead>\n",
       "  <tbody>\n",
       "    <tr>\n",
       "      <th>U.A.E.</th>\n",
       "      <td>437.000000</td>\n",
       "      <td>440.000000</td>\n",
       "      <td>NaN</td>\n",
       "      <td>NaN</td>\n",
       "    </tr>\n",
       "    <tr>\n",
       "      <th>Argentina</th>\n",
       "      <td>406.652557</td>\n",
       "      <td>431.443542</td>\n",
       "      <td>19101.297392</td>\n",
       "      <td>9.857512</td>\n",
       "    </tr>\n",
       "    <tr>\n",
       "      <th>Australia</th>\n",
       "      <td>520.000000</td>\n",
       "      <td>534.000000</td>\n",
       "      <td>43719.502165</td>\n",
       "      <td>10.685550</td>\n",
       "    </tr>\n",
       "    <tr>\n",
       "      <th>Austria</th>\n",
       "      <td>511.000000</td>\n",
       "      <td>533.000000</td>\n",
       "      <td>44353.875214</td>\n",
       "      <td>10.699955</td>\n",
       "    </tr>\n",
       "    <tr>\n",
       "      <th>Azerbaijan</th>\n",
       "      <td>465.000000</td>\n",
       "      <td>467.000000</td>\n",
       "      <td>16698.863653</td>\n",
       "      <td>9.723096</td>\n",
       "    </tr>\n",
       "  </tbody>\n",
       "</table>\n",
       "</div>"
      ],
      "text/plain": [
       "            Median Math Score (TIMSS Scale, 4th Grade)  \\\n",
       "Country                                                  \n",
       "U.A.E.                                      437.000000   \n",
       "Argentina                                   406.652557   \n",
       "Australia                                   520.000000   \n",
       "Austria                                     511.000000   \n",
       "Azerbaijan                                  465.000000   \n",
       "\n",
       "            Median Reading Score (PIRLS Scale, 4th Grade)           GDP  \\\n",
       "Country                                                                   \n",
       "U.A.E.                                         440.000000           NaN   \n",
       "Argentina                                      431.443542  19101.297392   \n",
       "Australia                                      534.000000  43719.502165   \n",
       "Austria                                        533.000000  44353.875214   \n",
       "Azerbaijan                                     467.000000  16698.863653   \n",
       "\n",
       "              log_GDP  \n",
       "Country                \n",
       "U.A.E.            NaN  \n",
       "Argentina    9.857512  \n",
       "Australia   10.685550  \n",
       "Austria     10.699955  \n",
       "Azerbaijan   9.723096  "
      ]
     },
     "execution_count": 59,
     "metadata": {},
     "output_type": "execute_result"
    }
   ],
   "source": [
    "df = country_scores.set_index('Country').join(wdi_gdp.set_index('Country'))\n",
    "df.head()"
   ]
  },
  {
   "cell_type": "code",
   "execution_count": 60,
   "metadata": {},
   "outputs": [
    {
     "data": {
      "text/html": [
       "<div>\n",
       "<style scoped>\n",
       "    .dataframe tbody tr th:only-of-type {\n",
       "        vertical-align: middle;\n",
       "    }\n",
       "\n",
       "    .dataframe tbody tr th {\n",
       "        vertical-align: top;\n",
       "    }\n",
       "\n",
       "    .dataframe thead th {\n",
       "        text-align: right;\n",
       "    }\n",
       "</style>\n",
       "<table border=\"1\" class=\"dataframe\">\n",
       "  <thead>\n",
       "    <tr style=\"text-align: right;\">\n",
       "      <th></th>\n",
       "      <th>TIMSS</th>\n",
       "      <th>PIRLS</th>\n",
       "      <th>GDP</th>\n",
       "      <th>log_GDP</th>\n",
       "    </tr>\n",
       "    <tr>\n",
       "      <th>Country</th>\n",
       "      <th></th>\n",
       "      <th></th>\n",
       "      <th></th>\n",
       "      <th></th>\n",
       "    </tr>\n",
       "  </thead>\n",
       "  <tbody>\n",
       "    <tr>\n",
       "      <th>Argentina</th>\n",
       "      <td>406.652557</td>\n",
       "      <td>431.443542</td>\n",
       "      <td>19101.297392</td>\n",
       "      <td>9.857512</td>\n",
       "    </tr>\n",
       "    <tr>\n",
       "      <th>Australia</th>\n",
       "      <td>520.000000</td>\n",
       "      <td>534.000000</td>\n",
       "      <td>43719.502165</td>\n",
       "      <td>10.685550</td>\n",
       "    </tr>\n",
       "    <tr>\n",
       "      <th>Austria</th>\n",
       "      <td>511.000000</td>\n",
       "      <td>533.000000</td>\n",
       "      <td>44353.875214</td>\n",
       "      <td>10.699955</td>\n",
       "    </tr>\n",
       "    <tr>\n",
       "      <th>Azerbaijan</th>\n",
       "      <td>465.000000</td>\n",
       "      <td>467.000000</td>\n",
       "      <td>16698.863653</td>\n",
       "      <td>9.723096</td>\n",
       "    </tr>\n",
       "    <tr>\n",
       "      <th>Burundi</th>\n",
       "      <td>476.978455</td>\n",
       "      <td>392.374207</td>\n",
       "      <td>748.415271</td>\n",
       "      <td>6.617958</td>\n",
       "    </tr>\n",
       "  </tbody>\n",
       "</table>\n",
       "</div>"
      ],
      "text/plain": [
       "                 TIMSS       PIRLS           GDP    log_GDP\n",
       "Country                                                    \n",
       "Argentina   406.652557  431.443542  19101.297392   9.857512\n",
       "Australia   520.000000  534.000000  43719.502165  10.685550\n",
       "Austria     511.000000  533.000000  44353.875214  10.699955\n",
       "Azerbaijan  465.000000  467.000000  16698.863653   9.723096\n",
       "Burundi     476.978455  392.374207    748.415271   6.617958"
      ]
     },
     "execution_count": 60,
     "metadata": {},
     "output_type": "execute_result"
    }
   ],
   "source": [
    "df=df.dropna()\n",
    "df.rename(columns={'Median Math Score (TIMSS Scale, 4th Grade)': 'TIMSS', 'Median Reading Score (PIRLS Scale, 4th Grade)': 'PIRLS'}, inplace=True)\n",
    "df.head()"
   ]
  },
  {
   "cell_type": "markdown",
   "metadata": {},
   "source": [
    "* Για μεγαλύτερη ευχρηστία , φτιάχνεται ένα dataframe για το TIMSS και ένα για το PIRLS."
   ]
  },
  {
   "cell_type": "code",
   "execution_count": 61,
   "metadata": {},
   "outputs": [
    {
     "data": {
      "text/html": [
       "<div>\n",
       "<style scoped>\n",
       "    .dataframe tbody tr th:only-of-type {\n",
       "        vertical-align: middle;\n",
       "    }\n",
       "\n",
       "    .dataframe tbody tr th {\n",
       "        vertical-align: top;\n",
       "    }\n",
       "\n",
       "    .dataframe thead th {\n",
       "        text-align: right;\n",
       "    }\n",
       "</style>\n",
       "<table border=\"1\" class=\"dataframe\">\n",
       "  <thead>\n",
       "    <tr style=\"text-align: right;\">\n",
       "      <th></th>\n",
       "      <th>TIMSS</th>\n",
       "      <th>log_GDP</th>\n",
       "    </tr>\n",
       "    <tr>\n",
       "      <th>Country</th>\n",
       "      <th></th>\n",
       "      <th></th>\n",
       "    </tr>\n",
       "  </thead>\n",
       "  <tbody>\n",
       "    <tr>\n",
       "      <th>Argentina</th>\n",
       "      <td>406.652557</td>\n",
       "      <td>9.857512</td>\n",
       "    </tr>\n",
       "    <tr>\n",
       "      <th>Australia</th>\n",
       "      <td>520.000000</td>\n",
       "      <td>10.685550</td>\n",
       "    </tr>\n",
       "    <tr>\n",
       "      <th>Austria</th>\n",
       "      <td>511.000000</td>\n",
       "      <td>10.699955</td>\n",
       "    </tr>\n",
       "    <tr>\n",
       "      <th>Azerbaijan</th>\n",
       "      <td>465.000000</td>\n",
       "      <td>9.723096</td>\n",
       "    </tr>\n",
       "    <tr>\n",
       "      <th>Burundi</th>\n",
       "      <td>476.978455</td>\n",
       "      <td>6.617958</td>\n",
       "    </tr>\n",
       "  </tbody>\n",
       "</table>\n",
       "</div>"
      ],
      "text/plain": [
       "                 TIMSS    log_GDP\n",
       "Country                          \n",
       "Argentina   406.652557   9.857512\n",
       "Australia   520.000000  10.685550\n",
       "Austria     511.000000  10.699955\n",
       "Azerbaijan  465.000000   9.723096\n",
       "Burundi     476.978455   6.617958"
      ]
     },
     "execution_count": 61,
     "metadata": {},
     "output_type": "execute_result"
    }
   ],
   "source": [
    "timss = df[['TIMSS' ,'log_GDP']]\n",
    "timss.head()"
   ]
  },
  {
   "cell_type": "code",
   "execution_count": 62,
   "metadata": {},
   "outputs": [
    {
     "data": {
      "text/html": [
       "<div>\n",
       "<style scoped>\n",
       "    .dataframe tbody tr th:only-of-type {\n",
       "        vertical-align: middle;\n",
       "    }\n",
       "\n",
       "    .dataframe tbody tr th {\n",
       "        vertical-align: top;\n",
       "    }\n",
       "\n",
       "    .dataframe thead th {\n",
       "        text-align: right;\n",
       "    }\n",
       "</style>\n",
       "<table border=\"1\" class=\"dataframe\">\n",
       "  <thead>\n",
       "    <tr style=\"text-align: right;\">\n",
       "      <th></th>\n",
       "      <th>PIRLS</th>\n",
       "      <th>log_GDP</th>\n",
       "    </tr>\n",
       "    <tr>\n",
       "      <th>Country</th>\n",
       "      <th></th>\n",
       "      <th></th>\n",
       "    </tr>\n",
       "  </thead>\n",
       "  <tbody>\n",
       "    <tr>\n",
       "      <th>Argentina</th>\n",
       "      <td>431.443542</td>\n",
       "      <td>9.857512</td>\n",
       "    </tr>\n",
       "    <tr>\n",
       "      <th>Australia</th>\n",
       "      <td>534.000000</td>\n",
       "      <td>10.685550</td>\n",
       "    </tr>\n",
       "    <tr>\n",
       "      <th>Austria</th>\n",
       "      <td>533.000000</td>\n",
       "      <td>10.699955</td>\n",
       "    </tr>\n",
       "    <tr>\n",
       "      <th>Azerbaijan</th>\n",
       "      <td>467.000000</td>\n",
       "      <td>9.723096</td>\n",
       "    </tr>\n",
       "    <tr>\n",
       "      <th>Burundi</th>\n",
       "      <td>392.374207</td>\n",
       "      <td>6.617958</td>\n",
       "    </tr>\n",
       "  </tbody>\n",
       "</table>\n",
       "</div>"
      ],
      "text/plain": [
       "                 PIRLS    log_GDP\n",
       "Country                          \n",
       "Argentina   431.443542   9.857512\n",
       "Australia   534.000000  10.685550\n",
       "Austria     533.000000  10.699955\n",
       "Azerbaijan  467.000000   9.723096\n",
       "Burundi     392.374207   6.617958"
      ]
     },
     "execution_count": 62,
     "metadata": {},
     "output_type": "execute_result"
    }
   ],
   "source": [
    "pirls = df[['PIRLS' ,'log_GDP']]\n",
    "pirls.head()"
   ]
  },
  {
   "cell_type": "markdown",
   "metadata": {},
   "source": [
    "* Ο συντελεστής Pearson δείχνει αν υπάρχει κάποια ένδειξη για γραμμική συσχέτιση μεταξύ του log GDP και του TIMSS score."
   ]
  },
  {
   "cell_type": "code",
   "execution_count": 63,
   "metadata": {},
   "outputs": [
    {
     "data": {
      "text/plain": [
       "(0.6271828261897813, 3.8819128759804623e-07)"
      ]
     },
     "execution_count": 63,
     "metadata": {},
     "output_type": "execute_result"
    }
   ],
   "source": [
    "pearsonr_timss = stats.pearsonr(x=timss['log_GDP'], y=timss['TIMSS'])\n",
    "pearsonr_timss"
   ]
  },
  {
   "cell_type": "markdown",
   "metadata": {},
   "source": [
    "* Ορίζεται ένα μοντέλο με βάση τον κατάλληλο μαθηματικό τύπο.\n",
    "\n",
    "* Στη συνέχεια εφαρμόζεται το μοντέλο στα δεδομένα καλώντας τη μέθοδο `fit()`.\n",
    "\n",
    "* Η ιδιότητα `params` των αποτελεσμάτων δίνει την *τεταγμένη* (intercept) και την *κλήση* (slope) της γραμμής παλινδρόμησης."
   ]
  },
  {
   "cell_type": "code",
   "execution_count": 64,
   "metadata": {},
   "outputs": [
    {
     "data": {
      "text/plain": [
       "Intercept    76.537377\n",
       "log_GDP      38.626912\n",
       "dtype: float64"
      ]
     },
     "execution_count": 64,
     "metadata": {},
     "output_type": "execute_result"
    }
   ],
   "source": [
    "timss_mod = smf.ols(\"TIMSS ~ log_GDP\", data=timss)\n",
    "timss_res = timss_mod.fit()\n",
    "timss_res.params"
   ]
  },
  {
   "cell_type": "markdown",
   "metadata": {},
   "source": [
    "* Αυτό σημαίνει ότι η σχέση μεταξύ της μεταβλητής `TIMSS score` ($y$) και του `log GDP` ($x$) είναι:\n",
    "\n",
    "$$ y = 76{,}537377 + 38{,}626912 x $$"
   ]
  },
  {
   "cell_type": "code",
   "execution_count": 65,
   "metadata": {},
   "outputs": [
    {
     "data": {
      "text/plain": [
       "0.39335829746740103"
      ]
     },
     "execution_count": 65,
     "metadata": {},
     "output_type": "execute_result"
    }
   ],
   "source": [
    "timss_res.rsquared"
   ]
  },
  {
   "cell_type": "markdown",
   "metadata": {},
   "source": [
    "* To $R^2$ είναι μια μετρική *καλής προσαρμογής* (goodness of fit), δηλαδή υποδεικνύει πόσο καλά ταιριάζουν τα δεδομένα στο μοντέλο.\n",
    "\n",
    "* Η τιμή $R^2 = 0{,}393$ που φαίνεται σημαίνει ότι το μοντέλο εξηγεί το 39,3% της διακύμανσης (variation) του TIMSS score με βάση το log GDP."
   ]
  },
  {
   "cell_type": "markdown",
   "metadata": {},
   "source": [
    "* Εφαρμόζεται η ίδια διαδικασία και για το PIRLS score."
   ]
  },
  {
   "cell_type": "code",
   "execution_count": 66,
   "metadata": {},
   "outputs": [
    {
     "data": {
      "text/plain": [
       "(0.7453032745663417, 1.0198739604707986e-10)"
      ]
     },
     "execution_count": 66,
     "metadata": {},
     "output_type": "execute_result"
    }
   ],
   "source": [
    "pearsonr_pirls = stats.pearsonr(x=pirls['log_GDP'], y=pirls['PIRLS'])\n",
    "pearsonr_pirls"
   ]
  },
  {
   "cell_type": "code",
   "execution_count": 67,
   "metadata": {},
   "outputs": [
    {
     "data": {
      "text/plain": [
       "Intercept    39.177881\n",
       "log_GDP      44.682098\n",
       "dtype: float64"
      ]
     },
     "execution_count": 67,
     "metadata": {},
     "output_type": "execute_result"
    }
   ],
   "source": [
    "pirls_mod = smf.ols(\"PIRLS ~ log_GDP\", data=pirls)\n",
    "pirls_res = pirls_mod.fit()\n",
    "pirls_res.params"
   ]
  },
  {
   "cell_type": "markdown",
   "metadata": {},
   "source": [
    "* Αυτό σημαίνει ότι η σχέση μεταξύ της μεταβλητής `PIRLS score` ($y$) και του `log GDP` ($x$) είναι:\n",
    "\n",
    "$$ y = 39{,}177881 + 44{,}682098 x $$"
   ]
  },
  {
   "cell_type": "code",
   "execution_count": 68,
   "metadata": {},
   "outputs": [
    {
     "data": {
      "text/plain": [
       "0.5554769710793115"
      ]
     },
     "execution_count": 68,
     "metadata": {},
     "output_type": "execute_result"
    }
   ],
   "source": [
    "pirls_res.rsquared"
   ]
  },
  {
   "cell_type": "markdown",
   "metadata": {},
   "source": [
    "* Η τιμή $R^2 = 0{,}555$ που φαίνεται σημαίνει ότι το μοντέλο εξηγεί το 55,5% της διακύμανσης (variation) του PIRLS score με βάση το log GDP."
   ]
  },
  {
   "cell_type": "code",
   "execution_count": 69,
   "metadata": {},
   "outputs": [
    {
     "data": {
      "image/png": "[encoded data removed]",
      "text/plain": [
       "<Figure size 640x480 with 1 Axes>"
      ]
     },
     "metadata": {},
     "output_type": "display_data"
    },
    {
     "data": {
      "text/plain": [
       "<ggplot: (91656006783)>"
      ]
     },
     "execution_count": 69,
     "metadata": {},
     "output_type": "execute_result"
    }
   ],
   "source": [
    "ggplot(data=timss) +\\\n",
    "    geom_point(mapping=aes(x='log_GDP', y='TIMSS')) +\\\n",
    "    geom_abline(intercept=timss_res.params['Intercept'], \n",
    "                slope=timss_res.params['log_GDP'])"
   ]
  },
  {
   "cell_type": "code",
   "execution_count": 70,
   "metadata": {},
   "outputs": [
    {
     "data": {
      "image/png": "[encoded data removed]",
      "text/plain": [
       "<Figure size 640x480 with 1 Axes>"
      ]
     },
     "metadata": {},
     "output_type": "display_data"
    },
    {
     "data": {
      "text/plain": [
       "<ggplot: (91655859600)>"
      ]
     },
     "execution_count": 70,
     "metadata": {},
     "output_type": "execute_result"
    }
   ],
   "source": [
    "ggplot(data=pirls) +\\\n",
    "    geom_point(mapping=aes(x='log_GDP', y='PIRLS')) +\\\n",
    "    geom_abline(intercept=pirls_res.params['Intercept'], \n",
    "                slope=pirls_res.params['log_GDP'])"
   ]
  },
  {
   "cell_type": "markdown",
   "metadata": {},
   "source": [
    "### E2: Χρόνια Εκπαίδευσης και Αποτελέσματα στα Τεστ"
   ]
  },
  {
   "cell_type": "markdown",
   "metadata": {},
   "source": [
    "* Υπολογίζονται τα υπόλοιπα των μοντέλων του Ε1 για τα TIMSS και PIRLS."
   ]
  },
  {
   "cell_type": "code",
   "execution_count": 71,
   "metadata": {},
   "outputs": [
    {
     "data": {
      "text/html": [
       "<div>\n",
       "<style scoped>\n",
       "    .dataframe tbody tr th:only-of-type {\n",
       "        vertical-align: middle;\n",
       "    }\n",
       "\n",
       "    .dataframe tbody tr th {\n",
       "        vertical-align: top;\n",
       "    }\n",
       "\n",
       "    .dataframe thead th {\n",
       "        text-align: right;\n",
       "    }\n",
       "</style>\n",
       "<table border=\"1\" class=\"dataframe\">\n",
       "  <thead>\n",
       "    <tr style=\"text-align: right;\">\n",
       "      <th></th>\n",
       "      <th>TIMSS</th>\n",
       "      <th>log_GDP</th>\n",
       "      <th>TIMSS_resid</th>\n",
       "    </tr>\n",
       "    <tr>\n",
       "      <th>Country</th>\n",
       "      <th></th>\n",
       "      <th></th>\n",
       "      <th></th>\n",
       "    </tr>\n",
       "  </thead>\n",
       "  <tbody>\n",
       "    <tr>\n",
       "      <th>Argentina</th>\n",
       "      <td>406.652557</td>\n",
       "      <td>9.857512</td>\n",
       "      <td>-50.650052</td>\n",
       "    </tr>\n",
       "    <tr>\n",
       "      <th>Australia</th>\n",
       "      <td>520.000000</td>\n",
       "      <td>10.685550</td>\n",
       "      <td>30.712839</td>\n",
       "    </tr>\n",
       "    <tr>\n",
       "      <th>Austria</th>\n",
       "      <td>511.000000</td>\n",
       "      <td>10.699955</td>\n",
       "      <td>21.156387</td>\n",
       "    </tr>\n",
       "    <tr>\n",
       "      <th>Azerbaijan</th>\n",
       "      <td>465.000000</td>\n",
       "      <td>9.723096</td>\n",
       "      <td>12.889450</td>\n",
       "    </tr>\n",
       "    <tr>\n",
       "      <th>Burundi</th>\n",
       "      <td>476.978455</td>\n",
       "      <td>6.617958</td>\n",
       "      <td>144.809795</td>\n",
       "    </tr>\n",
       "  </tbody>\n",
       "</table>\n",
       "</div>"
      ],
      "text/plain": [
       "                 TIMSS    log_GDP  TIMSS_resid\n",
       "Country                                       \n",
       "Argentina   406.652557   9.857512   -50.650052\n",
       "Australia   520.000000  10.685550    30.712839\n",
       "Austria     511.000000  10.699955    21.156387\n",
       "Azerbaijan  465.000000   9.723096    12.889450\n",
       "Burundi     476.978455   6.617958   144.809795"
      ]
     },
     "execution_count": 71,
     "metadata": {},
     "output_type": "execute_result"
    }
   ],
   "source": [
    "timss['TIMSS_resid'] = timss_res.resid\n",
    "timss.head()"
   ]
  },
  {
   "cell_type": "code",
   "execution_count": 72,
   "metadata": {},
   "outputs": [
    {
     "data": {
      "text/html": [
       "<div>\n",
       "<style scoped>\n",
       "    .dataframe tbody tr th:only-of-type {\n",
       "        vertical-align: middle;\n",
       "    }\n",
       "\n",
       "    .dataframe tbody tr th {\n",
       "        vertical-align: top;\n",
       "    }\n",
       "\n",
       "    .dataframe thead th {\n",
       "        text-align: right;\n",
       "    }\n",
       "</style>\n",
       "<table border=\"1\" class=\"dataframe\">\n",
       "  <thead>\n",
       "    <tr style=\"text-align: right;\">\n",
       "      <th></th>\n",
       "      <th>PIRLS</th>\n",
       "      <th>log_GDP</th>\n",
       "      <th>PIRLS_resid</th>\n",
       "    </tr>\n",
       "    <tr>\n",
       "      <th>Country</th>\n",
       "      <th></th>\n",
       "      <th></th>\n",
       "      <th></th>\n",
       "    </tr>\n",
       "  </thead>\n",
       "  <tbody>\n",
       "    <tr>\n",
       "      <th>Argentina</th>\n",
       "      <td>431.443542</td>\n",
       "      <td>9.857512</td>\n",
       "      <td>-48.188632</td>\n",
       "    </tr>\n",
       "    <tr>\n",
       "      <th>Australia</th>\n",
       "      <td>534.000000</td>\n",
       "      <td>10.685550</td>\n",
       "      <td>17.369350</td>\n",
       "    </tr>\n",
       "    <tr>\n",
       "      <th>Austria</th>\n",
       "      <td>533.000000</td>\n",
       "      <td>10.699955</td>\n",
       "      <td>15.725668</td>\n",
       "    </tr>\n",
       "    <tr>\n",
       "      <th>Azerbaijan</th>\n",
       "      <td>467.000000</td>\n",
       "      <td>9.723096</td>\n",
       "      <td>-6.626204</td>\n",
       "    </tr>\n",
       "    <tr>\n",
       "      <th>Burundi</th>\n",
       "      <td>392.374207</td>\n",
       "      <td>6.617958</td>\n",
       "      <td>57.492080</td>\n",
       "    </tr>\n",
       "  </tbody>\n",
       "</table>\n",
       "</div>"
      ],
      "text/plain": [
       "                 PIRLS    log_GDP  PIRLS_resid\n",
       "Country                                       \n",
       "Argentina   431.443542   9.857512   -48.188632\n",
       "Australia   534.000000  10.685550    17.369350\n",
       "Austria     533.000000  10.699955    15.725668\n",
       "Azerbaijan  467.000000   9.723096    -6.626204\n",
       "Burundi     392.374207   6.617958    57.492080"
      ]
     },
     "execution_count": 72,
     "metadata": {},
     "output_type": "execute_result"
    }
   ],
   "source": [
    "pirls['PIRLS_resid'] = pirls_res.resid\n",
    "pirls.head()"
   ]
  },
  {
   "cell_type": "markdown",
   "metadata": {},
   "source": [
    "* Από το αρχείο των ετών εκπαίδευσης , επιλέγονται οι τιμές για το 2010."
   ]
  },
  {
   "cell_type": "code",
   "execution_count": 73,
   "metadata": {},
   "outputs": [
    {
     "data": {
      "text/html": [
       "<div>\n",
       "<style scoped>\n",
       "    .dataframe tbody tr th:only-of-type {\n",
       "        vertical-align: middle;\n",
       "    }\n",
       "\n",
       "    .dataframe tbody tr th {\n",
       "        vertical-align: top;\n",
       "    }\n",
       "\n",
       "    .dataframe thead th {\n",
       "        text-align: right;\n",
       "    }\n",
       "</style>\n",
       "<table border=\"1\" class=\"dataframe\">\n",
       "  <thead>\n",
       "    <tr style=\"text-align: right;\">\n",
       "      <th></th>\n",
       "      <th>Country</th>\n",
       "      <th>Years_of_Schooling</th>\n",
       "    </tr>\n",
       "  </thead>\n",
       "  <tbody>\n",
       "    <tr>\n",
       "      <th>12</th>\n",
       "      <td>Algeria</td>\n",
       "      <td>6.678049</td>\n",
       "    </tr>\n",
       "    <tr>\n",
       "      <th>25</th>\n",
       "      <td>Benin</td>\n",
       "      <td>4.430164</td>\n",
       "    </tr>\n",
       "    <tr>\n",
       "      <th>38</th>\n",
       "      <td>Botswana</td>\n",
       "      <td>9.554915</td>\n",
       "    </tr>\n",
       "    <tr>\n",
       "      <th>51</th>\n",
       "      <td>Burundi</td>\n",
       "      <td>3.346481</td>\n",
       "    </tr>\n",
       "    <tr>\n",
       "      <th>64</th>\n",
       "      <td>Cameroon</td>\n",
       "      <td>6.154877</td>\n",
       "    </tr>\n",
       "    <tr>\n",
       "      <th>...</th>\n",
       "      <td>...</td>\n",
       "      <td>...</td>\n",
       "    </tr>\n",
       "    <tr>\n",
       "      <th>1845</th>\n",
       "      <td>Republic of Moldova</td>\n",
       "      <td>10.404020</td>\n",
       "    </tr>\n",
       "    <tr>\n",
       "      <th>1858</th>\n",
       "      <td>Serbia</td>\n",
       "      <td>10.845333</td>\n",
       "    </tr>\n",
       "    <tr>\n",
       "      <th>1871</th>\n",
       "      <td>Slovenia</td>\n",
       "      <td>11.890487</td>\n",
       "    </tr>\n",
       "    <tr>\n",
       "      <th>1884</th>\n",
       "      <td>China, Macao Special Administrative Region</td>\n",
       "      <td>8.543072</td>\n",
       "    </tr>\n",
       "    <tr>\n",
       "      <th>1897</th>\n",
       "      <td>Ukraine</td>\n",
       "      <td>11.147017</td>\n",
       "    </tr>\n",
       "  </tbody>\n",
       "</table>\n",
       "<p>146 rows × 2 columns</p>\n",
       "</div>"
      ],
      "text/plain": [
       "                                         Country  Years_of_Schooling\n",
       "12                                       Algeria            6.678049\n",
       "25                                         Benin            4.430164\n",
       "38                                      Botswana            9.554915\n",
       "51                                       Burundi            3.346481\n",
       "64                                      Cameroon            6.154877\n",
       "...                                          ...                 ...\n",
       "1845                         Republic of Moldova           10.404020\n",
       "1858                                      Serbia           10.845333\n",
       "1871                                    Slovenia           11.890487\n",
       "1884  China, Macao Special Administrative Region            8.543072\n",
       "1897                                     Ukraine           11.147017\n",
       "\n",
       "[146 rows x 2 columns]"
      ]
     },
     "execution_count": 73,
     "metadata": {},
     "output_type": "execute_result"
    }
   ],
   "source": [
    "education=pd.read_stata(\"BL2013_MF1599_v2.2.dta\")\n",
    "education = education[education[\"year\"] == 2010.0]\n",
    "education = education[['country' ,'yr_sch']]\n",
    "education.rename(columns={'country': 'Country', 'yr_sch': 'Years_of_Schooling'}, inplace=True)\n",
    "education"
   ]
  },
  {
   "cell_type": "code",
   "execution_count": 74,
   "metadata": {},
   "outputs": [
    {
     "data": {
      "text/plain": [
       "Country               0\n",
       "Years_of_Schooling    0\n",
       "dtype: int64"
      ]
     },
     "execution_count": 74,
     "metadata": {},
     "output_type": "execute_result"
    }
   ],
   "source": [
    "education.isna().sum()"
   ]
  },
  {
   "cell_type": "code",
   "execution_count": 75,
   "metadata": {},
   "outputs": [],
   "source": [
    "df_2 = education.set_index('Country').join(wdi_gdp.set_index('Country'))\n",
    "df_2 = df_2[['Years_of_Schooling' , 'log_GDP']]\n",
    "df_2 = df_2.dropna()"
   ]
  },
  {
   "cell_type": "code",
   "execution_count": 76,
   "metadata": {},
   "outputs": [
    {
     "data": {
      "text/plain": [
       "(0.7784081436113978, 5.047375716298766e-26)"
      ]
     },
     "execution_count": 76,
     "metadata": {},
     "output_type": "execute_result"
    }
   ],
   "source": [
    "pearsonr_edu = stats.pearsonr(x=df_2['log_GDP'], y=df_2['Years_of_Schooling'])\n",
    "pearsonr_edu"
   ]
  },
  {
   "cell_type": "markdown",
   "metadata": {},
   "source": [
    "* Ορίζεται ένα μοντέλο με μεταβλητές το λογαριθμισμένο κατά κεφαλήν εισόδημα το 2015 και τα χρόνια εκπαίδευσης."
   ]
  },
  {
   "cell_type": "code",
   "execution_count": 77,
   "metadata": {},
   "outputs": [
    {
     "data": {
      "text/plain": [
       "Intercept   -8.338686\n",
       "log_GDP      1.787335\n",
       "dtype: float64"
      ]
     },
     "execution_count": 77,
     "metadata": {},
     "output_type": "execute_result"
    }
   ],
   "source": [
    "edu_mod = smf.ols(\"Years_of_Schooling ~ log_GDP\", data=df_2)\n",
    "edu_res = edu_mod.fit()\n",
    "edu_res.params"
   ]
  },
  {
   "cell_type": "markdown",
   "metadata": {},
   "source": [
    "* Αυτό σημαίνει ότι η σχέση μεταξύ της μεταβλητής `Years of Schooling` ($y$) και του `log GDP` ($x$) είναι:\n",
    "\n",
    "$$ y = -8{,}338686 + 1{,}787335 x $$"
   ]
  },
  {
   "cell_type": "code",
   "execution_count": 78,
   "metadata": {},
   "outputs": [
    {
     "data": {
      "text/plain": [
       "0.6059192380405424"
      ]
     },
     "execution_count": 78,
     "metadata": {},
     "output_type": "execute_result"
    }
   ],
   "source": [
    "edu_res.rsquared"
   ]
  },
  {
   "cell_type": "markdown",
   "metadata": {},
   "source": [
    "* Η τιμή $R^2 = 0{,}6059$ που φαίνεται σημαίνει ότι το μοντέλο εξηγεί το 60,59% της διακύμανσης (variation) των χρόνων εκπαίδευσης με βάση το log GDP."
   ]
  },
  {
   "cell_type": "markdown",
   "metadata": {},
   "source": [
    "* Υπολογίζονται τα υπόλοιπα για τα χρόνια εκπαίδευσης."
   ]
  },
  {
   "cell_type": "code",
   "execution_count": 79,
   "metadata": {},
   "outputs": [],
   "source": [
    "df_2['Years_of_Schooling_resid'] = edu_res.resid\n",
    "df_2 = df_2[['Years_of_Schooling_resid']]"
   ]
  },
  {
   "cell_type": "markdown",
   "metadata": {},
   "source": [
    "* Φτιάχνεται ένα dataframe για το TIMSS και ένα για το PIRLS με τα υπόλοιπά τους."
   ]
  },
  {
   "cell_type": "code",
   "execution_count": 80,
   "metadata": {},
   "outputs": [
    {
     "data": {
      "text/html": [
       "<div>\n",
       "<style scoped>\n",
       "    .dataframe tbody tr th:only-of-type {\n",
       "        vertical-align: middle;\n",
       "    }\n",
       "\n",
       "    .dataframe tbody tr th {\n",
       "        vertical-align: top;\n",
       "    }\n",
       "\n",
       "    .dataframe thead th {\n",
       "        text-align: right;\n",
       "    }\n",
       "</style>\n",
       "<table border=\"1\" class=\"dataframe\">\n",
       "  <thead>\n",
       "    <tr style=\"text-align: right;\">\n",
       "      <th></th>\n",
       "      <th>Years_of_Schooling_resid</th>\n",
       "      <th>TIMSS_resid</th>\n",
       "    </tr>\n",
       "    <tr>\n",
       "      <th>Country</th>\n",
       "      <th></th>\n",
       "      <th></th>\n",
       "    </tr>\n",
       "  </thead>\n",
       "  <tbody>\n",
       "    <tr>\n",
       "      <th>Benin</th>\n",
       "      <td>-0.805007</td>\n",
       "      <td>21.061065</td>\n",
       "    </tr>\n",
       "    <tr>\n",
       "      <th>Burundi</th>\n",
       "      <td>-0.143344</td>\n",
       "      <td>144.809795</td>\n",
       "    </tr>\n",
       "    <tr>\n",
       "      <th>Cameroon</th>\n",
       "      <td>0.019080</td>\n",
       "      <td>-14.111480</td>\n",
       "    </tr>\n",
       "    <tr>\n",
       "      <th>Morocco</th>\n",
       "      <td>-2.599783</td>\n",
       "      <td>-91.131857</td>\n",
       "    </tr>\n",
       "    <tr>\n",
       "      <th>Niger</th>\n",
       "      <td>-1.951785</td>\n",
       "      <td>-27.411733</td>\n",
       "    </tr>\n",
       "  </tbody>\n",
       "</table>\n",
       "</div>"
      ],
      "text/plain": [
       "          Years_of_Schooling_resid  TIMSS_resid\n",
       "Country                                        \n",
       "Benin                    -0.805007    21.061065\n",
       "Burundi                  -0.143344   144.809795\n",
       "Cameroon                  0.019080   -14.111480\n",
       "Morocco                  -2.599783   -91.131857\n",
       "Niger                    -1.951785   -27.411733"
      ]
     },
     "execution_count": 80,
     "metadata": {},
     "output_type": "execute_result"
    }
   ],
   "source": [
    "timss_resid = df_2.join(timss)\n",
    "timss_resid = timss_resid[['Years_of_Schooling_resid' , 'TIMSS_resid']]\n",
    "timss_resid.dropna(inplace=True)\n",
    "timss_resid.head()"
   ]
  },
  {
   "cell_type": "code",
   "execution_count": 81,
   "metadata": {},
   "outputs": [
    {
     "data": {
      "text/html": [
       "<div>\n",
       "<style scoped>\n",
       "    .dataframe tbody tr th:only-of-type {\n",
       "        vertical-align: middle;\n",
       "    }\n",
       "\n",
       "    .dataframe tbody tr th {\n",
       "        vertical-align: top;\n",
       "    }\n",
       "\n",
       "    .dataframe thead th {\n",
       "        text-align: right;\n",
       "    }\n",
       "</style>\n",
       "<table border=\"1\" class=\"dataframe\">\n",
       "  <thead>\n",
       "    <tr style=\"text-align: right;\">\n",
       "      <th></th>\n",
       "      <th>Years_of_Schooling_resid</th>\n",
       "      <th>PIRLS_resid</th>\n",
       "    </tr>\n",
       "    <tr>\n",
       "      <th>Country</th>\n",
       "      <th></th>\n",
       "      <th></th>\n",
       "    </tr>\n",
       "  </thead>\n",
       "  <tbody>\n",
       "    <tr>\n",
       "      <th>Benin</th>\n",
       "      <td>-0.805007</td>\n",
       "      <td>15.682162</td>\n",
       "    </tr>\n",
       "    <tr>\n",
       "      <th>Burundi</th>\n",
       "      <td>-0.143344</td>\n",
       "      <td>57.492080</td>\n",
       "    </tr>\n",
       "    <tr>\n",
       "      <th>Cameroon</th>\n",
       "      <td>0.019080</td>\n",
       "      <td>-10.685531</td>\n",
       "    </tr>\n",
       "    <tr>\n",
       "      <th>Morocco</th>\n",
       "      <td>-2.599783</td>\n",
       "      <td>-130.634505</td>\n",
       "    </tr>\n",
       "    <tr>\n",
       "      <th>Niger</th>\n",
       "      <td>-1.951785</td>\n",
       "      <td>-6.571531</td>\n",
       "    </tr>\n",
       "  </tbody>\n",
       "</table>\n",
       "</div>"
      ],
      "text/plain": [
       "          Years_of_Schooling_resid  PIRLS_resid\n",
       "Country                                        \n",
       "Benin                    -0.805007    15.682162\n",
       "Burundi                  -0.143344    57.492080\n",
       "Cameroon                  0.019080   -10.685531\n",
       "Morocco                  -2.599783  -130.634505\n",
       "Niger                    -1.951785    -6.571531"
      ]
     },
     "execution_count": 81,
     "metadata": {},
     "output_type": "execute_result"
    }
   ],
   "source": [
    "pirls_resid = df_2.join(pirls)\n",
    "pirls_resid = pirls_resid[['Years_of_Schooling_resid' , 'PIRLS_resid']]\n",
    "pirls_resid.dropna(inplace=True)\n",
    "pirls_resid.head()"
   ]
  },
  {
   "cell_type": "code",
   "execution_count": 82,
   "metadata": {},
   "outputs": [
    {
     "data": {
      "text/plain": [
       "(0.43060871461871275, 0.003149854039752841)"
      ]
     },
     "execution_count": 82,
     "metadata": {},
     "output_type": "execute_result"
    }
   ],
   "source": [
    "pearsonr_timss_resid = stats.pearsonr(x=timss_resid['Years_of_Schooling_resid'], y=timss_resid['TIMSS_resid'])\n",
    "pearsonr_timss_resid"
   ]
  },
  {
   "cell_type": "code",
   "execution_count": 83,
   "metadata": {},
   "outputs": [
    {
     "data": {
      "text/plain": [
       "Intercept                    5.402008\n",
       "Years_of_Schooling_resid    16.761844\n",
       "dtype: float64"
      ]
     },
     "execution_count": 83,
     "metadata": {},
     "output_type": "execute_result"
    }
   ],
   "source": [
    "timss_resid_mod = smf.ols(\"TIMSS_resid ~ Years_of_Schooling_resid\", data=timss_resid)\n",
    "timss_resid_res = timss_resid_mod.fit()\n",
    "timss_resid_res.params"
   ]
  },
  {
   "cell_type": "markdown",
   "metadata": {},
   "source": [
    "* Αυτό σημαίνει ότι η σχέση μεταξύ της μεταβλητής `TIMSS residuals` ($y$) και του `Years of Schooling residuals` ($x$) είναι:\n",
    "\n",
    "$$ y = 5{,}402008 + 16{,}761844 x $$"
   ]
  },
  {
   "cell_type": "code",
   "execution_count": 84,
   "metadata": {},
   "outputs": [
    {
     "data": {
      "text/plain": [
       "0.18542386510557973"
      ]
     },
     "execution_count": 84,
     "metadata": {},
     "output_type": "execute_result"
    }
   ],
   "source": [
    "timss_resid_res.rsquared"
   ]
  },
  {
   "cell_type": "markdown",
   "metadata": {},
   "source": [
    "* Η τιμή $R^2 = 0{,}1854$ που φαίνεται σημαίνει ότι το μοντέλο εξηγεί το 18,54% της διακύμανσης (variation) των υπολοίπων του σκορ TIMSS με βάση τα χρόνια εκπαίδευσης."
   ]
  },
  {
   "cell_type": "code",
   "execution_count": 85,
   "metadata": {},
   "outputs": [
    {
     "data": {
      "text/plain": [
       "(0.5820566145884757, 2.7404197663931664e-05)"
      ]
     },
     "execution_count": 85,
     "metadata": {},
     "output_type": "execute_result"
    }
   ],
   "source": [
    "pearsonr_pirls_resid = stats.pearsonr(x=pirls_resid['Years_of_Schooling_resid'], y=pirls_resid['PIRLS_resid'])\n",
    "pearsonr_pirls_resid"
   ]
  },
  {
   "cell_type": "code",
   "execution_count": 86,
   "metadata": {},
   "outputs": [
    {
     "data": {
      "text/plain": [
       "Intercept                    6.273276\n",
       "Years_of_Schooling_resid    18.295631\n",
       "dtype: float64"
      ]
     },
     "execution_count": 86,
     "metadata": {},
     "output_type": "execute_result"
    }
   ],
   "source": [
    "pirls_resid_mod = smf.ols(\"PIRLS_resid ~ Years_of_Schooling_resid\", data=pirls_resid)\n",
    "pirls_resid_res = pirls_resid_mod.fit()\n",
    "pirls_resid_res.params"
   ]
  },
  {
   "cell_type": "markdown",
   "metadata": {},
   "source": [
    "* Αυτό σημαίνει ότι η σχέση μεταξύ της μεταβλητής `PIRLS residuals` ($y$) και του `Years of Schooling residuals` ($x$) είναι:\n",
    "\n",
    "$$ y = 6{,}273276 + 18{,}295631 x $$"
   ]
  },
  {
   "cell_type": "code",
   "execution_count": 87,
   "metadata": {},
   "outputs": [
    {
     "data": {
      "text/plain": [
       "0.3387899025861971"
      ]
     },
     "execution_count": 87,
     "metadata": {},
     "output_type": "execute_result"
    }
   ],
   "source": [
    "pirls_resid_res.rsquared"
   ]
  },
  {
   "cell_type": "markdown",
   "metadata": {},
   "source": [
    "* Η τιμή $R^2 = 0{,}3387$ που φαίνεται σημαίνει ότι το μοντέλο εξηγεί το 33,87% της διακύμανσης (variation) των υπολοίπων του σκορ PIRLS με βάση τα χρόνια εκπαίδευσης."
   ]
  },
  {
   "cell_type": "code",
   "execution_count": 88,
   "metadata": {},
   "outputs": [
    {
     "data": {
      "image/png": "[encoded data removed]",
      "text/plain": [
       "<Figure size 640x480 with 1 Axes>"
      ]
     },
     "metadata": {},
     "output_type": "display_data"
    },
    {
     "data": {
      "text/plain": [
       "<ggplot: (91656096306)>"
      ]
     },
     "execution_count": 88,
     "metadata": {},
     "output_type": "execute_result"
    }
   ],
   "source": [
    "ggplot(data=timss_resid) +\\\n",
    "    geom_point(mapping=aes(x='Years_of_Schooling_resid', y='TIMSS_resid')) +\\\n",
    "    geom_abline(intercept=timss_resid_res.params['Intercept'], \n",
    "                slope=timss_resid_res.params['Years_of_Schooling_resid'])"
   ]
  },
  {
   "cell_type": "code",
   "execution_count": 89,
   "metadata": {},
   "outputs": [
    {
     "data": {
      "image/png": "[encoded data removed]",
      "text/plain": [
       "<Figure size 640x480 with 1 Axes>"
      ]
     },
     "metadata": {},
     "output_type": "display_data"
    },
    {
     "data": {
      "text/plain": [
       "<ggplot: (91656135332)>"
      ]
     },
     "execution_count": 89,
     "metadata": {},
     "output_type": "execute_result"
    }
   ],
   "source": [
    "ggplot(data=pirls_resid) +\\\n",
    "    geom_point(mapping=aes(x='Years_of_Schooling_resid', y='PIRLS_resid')) +\\\n",
    "    geom_abline(intercept=pirls_resid_res.params['Intercept'], \n",
    "                slope=pirls_resid_res.params['Years_of_Schooling_resid'])"
   ]
  }
 ],
 "metadata": {
  "kernelspec": {
   "display_name": "Python 3",
   "language": "python",
   "name": "python3"
  },
  "language_info": {
   "codemirror_mode": {
    "name": "ipython",
    "version": 3
   },
   "file_extension": ".py",
   "mimetype": "text/x-python",
   "name": "python",
   "nbconvert_exporter": "python",
   "pygments_lexer": "ipython3",
   "version": "3.10.4"
  },
  "orig_nbformat": 4,
  "vscode": {
   "interpreter": {
    "hash": "52634da84371cba311ea128a5ea7cdc41ff074b781779e754b270ff9f8153cee"
   }
  }
 },
 "nbformat": 4,
 "nbformat_minor": 2
}
